{
 "cells": [
  {
   "cell_type": "markdown",
   "metadata": {
    "tags": []
   },
   "source": [
    "# Intent Benchmark \n",
    "\n",
    "This document contains visuals for a intent benchmark. The code that generates the data can be found in `benchmark.py`. This notebook will mainly share a story on how to interpret/run numbers."
   ]
  },
  {
   "cell_type": "code",
   "execution_count": 3,
   "metadata": {},
   "outputs": [],
   "source": [
    "import altair as alt \n",
    "import hiplot as hip \n",
    "import pandas as pd\n",
    "\n",
    "df = pd.read_json('data/n-ft-use-train-experiment.jsonl', lines=True)"
   ]
  },
  {
   "cell_type": "markdown",
   "metadata": {},
   "source": [
    "## Benchmark Results \n",
    "\n",
    "Let's discuss the results of a benchmark. We will compare FastText embeddings with embeddings for the Universal Sentence Encoder. We're interested in doing a benchmark for intent classification for chatbots so we'll use a dataset for that purpose."
   ]
  },
  {
   "cell_type": "code",
   "execution_count": 4,
   "metadata": {},
   "outputs": [
    {
     "data": {
      "text/html": [
       "<div>\n",
       "<style scoped>\n",
       "    .dataframe tbody tr th:only-of-type {\n",
       "        vertical-align: middle;\n",
       "    }\n",
       "\n",
       "    .dataframe tbody tr th {\n",
       "        vertical-align: top;\n",
       "    }\n",
       "\n",
       "    .dataframe thead th {\n",
       "        text-align: right;\n",
       "    }\n",
       "</style>\n",
       "<table border=\"1\" class=\"dataframe\">\n",
       "  <thead>\n",
       "    <tr style=\"text-align: right;\">\n",
       "      <th></th>\n",
       "      <th>text</th>\n",
       "      <th>label</th>\n",
       "    </tr>\n",
       "  </thead>\n",
       "  <tbody>\n",
       "    <tr>\n",
       "      <th>5335</th>\n",
       "      <td>can you tell me how to make a vacation request</td>\n",
       "      <td>pto_request</td>\n",
       "    </tr>\n",
       "    <tr>\n",
       "      <th>5525</th>\n",
       "      <td>tell me something neat about slinkies</td>\n",
       "      <td>fun_fact</td>\n",
       "    </tr>\n",
       "    <tr>\n",
       "      <th>5807</th>\n",
       "      <td>when will you mail me a replacement card</td>\n",
       "      <td>replacement_card_duration</td>\n",
       "    </tr>\n",
       "    <tr>\n",
       "      <th>22990</th>\n",
       "      <td>i'd like to find some curtains that look good ...</td>\n",
       "      <td>oos</td>\n",
       "    </tr>\n",
       "    <tr>\n",
       "      <th>2471</th>\n",
       "      <td>are you a pet owner and what kind</td>\n",
       "      <td>do_you_have_pets</td>\n",
       "    </tr>\n",
       "  </tbody>\n",
       "</table>\n",
       "</div>"
      ],
      "text/plain": [
       "                                                    text  \\\n",
       "5335      can you tell me how to make a vacation request   \n",
       "5525               tell me something neat about slinkies   \n",
       "5807            when will you mail me a replacement card   \n",
       "22990  i'd like to find some curtains that look good ...   \n",
       "2471                   are you a pet owner and what kind   \n",
       "\n",
       "                           label  \n",
       "5335                 pto_request  \n",
       "5525                    fun_fact  \n",
       "5807   replacement_card_duration  \n",
       "22990                        oos  \n",
       "2471            do_you_have_pets  "
      ]
     },
     "execution_count": 4,
     "metadata": {},
     "output_type": "execute_result"
    }
   ],
   "source": [
    "pd.read_csv(\"data/outofscope-intent-classification-dataset.csv\").sample(5)"
   ]
  },
  {
   "cell_type": "markdown",
   "metadata": {},
   "source": [
    "The suggestion, now, is that we may be able to recommend using FastText vs. USE to external stakeholders. \n",
    "\n",
    "<img src=\"pipeline.png\" width=800>\n",
    "\n",
    "This dataset has 150 intents with 150 examples each. We split up a train/test and we run `benchmark.py`. \n",
    "\n",
    "This gives us the following results:"
   ]
  },
  {
   "cell_type": "code",
   "execution_count": 5,
   "metadata": {
    "jupyter": {
     "source_hidden": true
    },
    "tags": []
   },
   "outputs": [
    {
     "data": {
      "text/html": [
       "<div>\n",
       "<style scoped>\n",
       "    .dataframe tbody tr th:only-of-type {\n",
       "        vertical-align: middle;\n",
       "    }\n",
       "\n",
       "    .dataframe tbody tr th {\n",
       "        vertical-align: top;\n",
       "    }\n",
       "\n",
       "    .dataframe thead th {\n",
       "        text-align: right;\n",
       "    }\n",
       "</style>\n",
       "<table border=\"1\" class=\"dataframe\">\n",
       "  <thead>\n",
       "    <tr style=\"text-align: right;\">\n",
       "      <th></th>\n",
       "      <th>emb</th>\n",
       "      <th>accuracy_test</th>\n",
       "      <th>pred_time</th>\n",
       "    </tr>\n",
       "  </thead>\n",
       "  <tbody>\n",
       "    <tr>\n",
       "      <th>49</th>\n",
       "      <td>ft</td>\n",
       "      <td>0.91850</td>\n",
       "      <td>0.384681</td>\n",
       "    </tr>\n",
       "    <tr>\n",
       "      <th>68</th>\n",
       "      <td>use</td>\n",
       "      <td>0.92475</td>\n",
       "      <td>4.291162</td>\n",
       "    </tr>\n",
       "  </tbody>\n",
       "</table>\n",
       "</div>"
      ],
      "text/plain": [
       "    emb  accuracy_test  pred_time\n",
       "49   ft        0.91850   0.384681\n",
       "68  use        0.92475   4.291162"
      ]
     },
     "execution_count": 5,
     "metadata": {},
     "output_type": "execute_result"
    }
   ],
   "source": [
    "(df\n",
    " .loc[lambda d: d['train_size'] == 9500]\n",
    " .loc[lambda d: d['emb'].isin(['ft', 'use'])]\n",
    " [['emb', 'accuracy_test', 'pred_time']])"
   ]
  },
  {
   "cell_type": "markdown",
   "metadata": {},
   "source": [
    "### Can we declare a win?\n",
    "\n",
    "Let's take a principled approach. We have 4000 test cases."
   ]
  },
  {
   "cell_type": "code",
   "execution_count": 6,
   "metadata": {},
   "outputs": [
    {
     "data": {
      "image/png": "[encoded data removed]",
      "text/plain": [
       "<Figure size 720x288 with 1 Axes>"
      ]
     },
     "metadata": {
      "needs_background": "light"
     },
     "output_type": "display_data"
    }
   ],
   "source": [
    "import numpy as np\n",
    "from scipy.stats import beta\n",
    "import matplotlib.pylab as plt\n",
    "\n",
    "p_use, p_ft = 0.92475, 0.91850\n",
    "\n",
    "x = np.linspace(0.90, 0.95, 1000)\n",
    "pdf_use = beta(p_use*4000, (1-p_use)*4000).pdf(x)\n",
    "pdf_ft = beta(p_ft*4000, (1-p_ft)*4000).pdf(x)\n",
    "\n",
    "plt.figure(figsize=(10, 4))\n",
    "plt.plot(x, pdf_use, label=\"Universal Sentence Encoder\")\n",
    "plt.plot(x, pdf_ft, label=\"FastText\")\n",
    "plt.legend();"
   ]
  },
  {
   "cell_type": "code",
   "execution_count": 7,
   "metadata": {},
   "outputs": [
    {
     "data": {
      "text/plain": [
       "0.862"
      ]
     },
     "execution_count": 7,
     "metadata": {},
     "output_type": "execute_result"
    }
   ],
   "source": [
    "samples_use = beta(p_use*4000, (1-p_use)*4000).rvs(1000)\n",
    "samples_ft = beta(p_ft*4000, (1-p_ft)*4000).rvs(1000)\n",
    "(samples_use > samples_ft).mean()"
   ]
  },
  {
   "cell_type": "markdown",
   "metadata": {
    "tags": []
   },
   "source": [
    "Usually folks want 0.95 certainty or something. If that includes you ... our \"better stat\" suddenly isn't that convincing anymore.\n",
    "\n",
    "But there's something bigger lying under the grass."
   ]
  },
  {
   "cell_type": "markdown",
   "metadata": {},
   "source": [
    "## Results \n",
    "\n",
    "Protips for doing benchmarks. \n",
    "\n",
    "1. Run the beta test. We just did this. \n",
    "2. Add in a super simple benchmark. \n",
    "3. Check the effect of training data size. \n",
    "\n",
    "My original benchmark actually did this. I also added a model that uses *no* embeddings. \n",
    "\n",
    "The results are summarised below: "
   ]
  },
  {
   "cell_type": "code",
   "execution_count": 8,
   "metadata": {},
   "outputs": [
    {
     "data": {
      "text/html": [
       "\n",
       "<div id=\"altair-viz-3df44155950d44f0962e176385bb6cfe\"></div>\n",
       "<script type=\"text/javascript\">\n",
       "  (function(spec, embedOpt){\n",
       "    let outputDiv = document.currentScript.previousElementSibling;\n",
       "    if (outputDiv.id !== \"altair-viz-3df44155950d44f0962e176385bb6cfe\") {\n",
       "      outputDiv = document.getElementById(\"altair-viz-3df44155950d44f0962e176385bb6cfe\");\n",
       "    }\n",
       "    const paths = {\n",
       "      \"vega\": \"https://cdn.jsdelivr.net/npm//vega@5?noext\",\n",
       "      \"vega-lib\": \"https://cdn.jsdelivr.net/npm//vega-lib?noext\",\n",
       "      \"vega-lite\": \"https://cdn.jsdelivr.net/npm//vega-lite@4.8.1?noext\",\n",
       "      \"vega-embed\": \"https://cdn.jsdelivr.net/npm//vega-embed@6?noext\",\n",
       "    };\n",
       "\n",
       "    function loadScript(lib) {\n",
       "      return new Promise(function(resolve, reject) {\n",
       "        var s = document.createElement('script');\n",
       "        s.src = paths[lib];\n",
       "        s.async = true;\n",
       "        s.onload = () => resolve(paths[lib]);\n",
       "        s.onerror = () => reject(`Error loading script: ${paths[lib]}`);\n",
       "        document.getElementsByTagName(\"head\")[0].appendChild(s);\n",
       "      });\n",
       "    }\n",
       "\n",
       "    function showError(err) {\n",
       "      outputDiv.innerHTML = `<div class=\"error\" style=\"color:red;\">${err}</div>`;\n",
       "      throw err;\n",
       "    }\n",
       "\n",
       "    function displayChart(vegaEmbed) {\n",
       "      vegaEmbed(outputDiv, spec, embedOpt)\n",
       "        .catch(err => showError(`Javascript Error: ${err.message}<br>This usually means there's a typo in your chart specification. See the javascript console for the full traceback.`));\n",
       "    }\n",
       "\n",
       "    if(typeof define === \"function\" && define.amd) {\n",
       "      requirejs.config({paths});\n",
       "      require([\"vega-embed\"], displayChart, err => showError(`Error loading script: ${err.message}`));\n",
       "    } else if (typeof vegaEmbed === \"function\") {\n",
       "      displayChart(vegaEmbed);\n",
       "    } else {\n",
       "      loadScript(\"vega\")\n",
       "        .then(() => loadScript(\"vega-lite\"))\n",
       "        .then(() => loadScript(\"vega-embed\"))\n",
       "        .catch(showError)\n",
       "        .then(() => displayChart(vegaEmbed));\n",
       "    }\n",
       "  })({\"config\": {\"view\": {\"continuousWidth\": 400, \"continuousHeight\": 300}}, \"data\": {\"name\": \"data-449cc46418f2705b725d791651b0525c\"}, \"mark\": \"line\", \"encoding\": {\"color\": {\"type\": \"nominal\", \"field\": \"emb\"}, \"x\": {\"type\": \"quantitative\", \"field\": \"train_size\"}, \"y\": {\"type\": \"quantitative\", \"field\": \"accuracy_test\"}}, \"height\": 250, \"selection\": {\"selector001\": {\"type\": \"interval\", \"bind\": \"scales\", \"encodings\": [\"x\", \"y\"]}}, \"title\": \"test performance\", \"width\": 800, \"$schema\": \"https://vega.github.io/schema/vega-lite/v4.8.1.json\", \"datasets\": {\"data-449cc46418f2705b725d791651b0525c\": [{\"dataset\": \"scope\", \"model\": \"lr\", \"emb\": \"ft\", \"train_size\": 500, \"test_size\": 4000, \"accuracy_test\": 0.55625, \"accuracy_train\": 1.0, \"pred_time\": 0.37118983268737704, \"time_taken\": 2.56}, {\"dataset\": \"scope\", \"model\": \"lr\", \"emb\": \"ft\", \"train_size\": 500, \"test_size\": 4000, \"accuracy_test\": 0.55625, \"accuracy_train\": 1.0, \"pred_time\": 0.37976861000061, \"time_taken\": 2.74}, {\"dataset\": \"scope\", \"model\": \"lr\", \"emb\": \"ft\", \"train_size\": 1000, \"test_size\": 4000, \"accuracy_test\": 0.7047500000000001, \"accuracy_train\": 0.999, \"pred_time\": 0.387124776840209, \"time_taken\": 5.97}, {\"dataset\": \"scope\", \"model\": \"lr\", \"emb\": \"ft\", \"train_size\": 1500, \"test_size\": 4000, \"accuracy_test\": 0.774, \"accuracy_train\": 0.998666666666666, \"pred_time\": 0.37938070297241205, \"time_taken\": 12.37}, {\"dataset\": \"scope\", \"model\": \"lr\", \"emb\": \"ft\", \"train_size\": 2000, \"test_size\": 4000, \"accuracy_test\": 0.81025, \"accuracy_train\": 0.9995, \"pred_time\": 0.38076925277709905, \"time_taken\": 14.11}, {\"dataset\": \"scope\", \"model\": \"lr\", \"emb\": \"ft\", \"train_size\": 2500, \"test_size\": 4000, \"accuracy_test\": 0.8287500000000001, \"accuracy_train\": 0.9984000000000001, \"pred_time\": 0.38810920715332003, \"time_taken\": 18.72}, {\"dataset\": \"scope\", \"model\": \"lr\", \"emb\": \"ft\", \"train_size\": 3000, \"test_size\": 4000, \"accuracy_test\": 0.8492500000000001, \"accuracy_train\": 0.998, \"pred_time\": 0.38200259208679205, \"time_taken\": 23.23}, {\"dataset\": \"scope\", \"model\": \"lr\", \"emb\": \"ft\", \"train_size\": 3500, \"test_size\": 4000, \"accuracy_test\": 0.8685, \"accuracy_train\": 0.9977142857142851, \"pred_time\": 0.37944746017456005, \"time_taken\": 30.12}, {\"dataset\": \"scope\", \"model\": \"lr\", \"emb\": \"ft\", \"train_size\": 4000, \"test_size\": 4000, \"accuracy_test\": 0.8752500000000001, \"accuracy_train\": 0.997, \"pred_time\": 0.377831935882568, \"time_taken\": 36.35}, {\"dataset\": \"scope\", \"model\": \"lr\", \"emb\": \"ft\", \"train_size\": 4500, \"test_size\": 4000, \"accuracy_test\": 0.8795000000000001, \"accuracy_train\": 0.996888888888888, \"pred_time\": 0.37891101837158203, \"time_taken\": 40.89}, {\"dataset\": \"scope\", \"model\": \"lr\", \"emb\": \"ft\", \"train_size\": 5000, \"test_size\": 4000, \"accuracy_test\": 0.88875, \"accuracy_train\": 0.996, \"pred_time\": 0.38017177581787104, \"time_taken\": 48.31}, {\"dataset\": \"scope\", \"model\": \"lr\", \"emb\": \"ft\", \"train_size\": 5500, \"test_size\": 4000, \"accuracy_test\": 0.8942500000000001, \"accuracy_train\": 0.9956363636363631, \"pred_time\": 0.378647565841674, \"time_taken\": 52.95}, {\"dataset\": \"scope\", \"model\": \"lr\", \"emb\": \"ft\", \"train_size\": 6000, \"test_size\": 4000, \"accuracy_test\": 0.8975000000000001, \"accuracy_train\": 0.995666666666666, \"pred_time\": 0.37787723541259705, \"time_taken\": 59.11}, {\"dataset\": \"scope\", \"model\": \"lr\", \"emb\": \"ft\", \"train_size\": 6500, \"test_size\": 4000, \"accuracy_test\": 0.90075, \"accuracy_train\": 0.995846153846153, \"pred_time\": 0.380505561828613, \"time_taken\": 82.49}, {\"dataset\": \"scope\", \"model\": \"lr\", \"emb\": \"ft\", \"train_size\": 7000, \"test_size\": 4000, \"accuracy_test\": 0.9045000000000001, \"accuracy_train\": 0.996, \"pred_time\": 0.38358306884765603, \"time_taken\": 90.78}, {\"dataset\": \"scope\", \"model\": \"lr\", \"emb\": \"ft\", \"train_size\": 7500, \"test_size\": 4000, \"accuracy_test\": 0.9092500000000001, \"accuracy_train\": 0.9961333333333331, \"pred_time\": 0.386059284210205, \"time_taken\": 98.64}, {\"dataset\": \"scope\", \"model\": \"lr\", \"emb\": \"ft\", \"train_size\": 8000, \"test_size\": 4000, \"accuracy_test\": 0.912, \"accuracy_train\": 0.995625, \"pred_time\": 0.384740114212036, \"time_taken\": 106.34}, {\"dataset\": \"scope\", \"model\": \"lr\", \"emb\": \"ft\", \"train_size\": 8500, \"test_size\": 4000, \"accuracy_test\": 0.9117500000000001, \"accuracy_train\": 0.9955294117647051, \"pred_time\": 0.37927222251892, \"time_taken\": 115.82}, {\"dataset\": \"scope\", \"model\": \"lr\", \"emb\": \"ft\", \"train_size\": 9000, \"test_size\": 4000, \"accuracy_test\": 0.914, \"accuracy_train\": 0.9954444444444441, \"pred_time\": 0.382676362991333, \"time_taken\": 124.8}, {\"dataset\": \"scope\", \"model\": \"lr\", \"emb\": \"ft\", \"train_size\": 9500, \"test_size\": 4000, \"accuracy_test\": 0.9185000000000001, \"accuracy_train\": 0.994526315789473, \"pred_time\": 0.38468122482299805, \"time_taken\": 133.39}, {\"dataset\": \"scope\", \"model\": \"lr\", \"emb\": \"use\", \"train_size\": 500, \"test_size\": 4000, \"accuracy_test\": 0.5640000000000001, \"accuracy_train\": 1.0, \"pred_time\": 4.30046796798706, \"time_taken\": 8.74}, {\"dataset\": \"scope\", \"model\": \"lr\", \"emb\": \"use\", \"train_size\": 1000, \"test_size\": 4000, \"accuracy_test\": 0.71325, \"accuracy_train\": 1.0, \"pred_time\": 4.3029162883758545, \"time_taken\": 16.01}, {\"dataset\": \"scope\", \"model\": \"lr\", \"emb\": \"use\", \"train_size\": 1500, \"test_size\": 4000, \"accuracy_test\": 0.7815000000000001, \"accuracy_train\": 0.998666666666666, \"pred_time\": 4.322261095046997, \"time_taken\": 22.46}, {\"dataset\": \"scope\", \"model\": \"lr\", \"emb\": \"use\", \"train_size\": 2000, \"test_size\": 4000, \"accuracy_test\": 0.8190000000000001, \"accuracy_train\": 0.9995, \"pred_time\": 4.327869653701782, \"time_taken\": 29.61}, {\"dataset\": \"scope\", \"model\": \"lr\", \"emb\": \"use\", \"train_size\": 2500, \"test_size\": 4000, \"accuracy_test\": 0.8377500000000001, \"accuracy_train\": 0.9984000000000001, \"pred_time\": 4.3121161460876465, \"time_taken\": 38.75}, {\"dataset\": \"scope\", \"model\": \"lr\", \"emb\": \"use\", \"train_size\": 3000, \"test_size\": 4000, \"accuracy_test\": 0.8592500000000001, \"accuracy_train\": 0.998, \"pred_time\": 4.291502475738525, \"time_taken\": 45.35}, {\"dataset\": \"scope\", \"model\": \"lr\", \"emb\": \"use\", \"train_size\": 3500, \"test_size\": 4000, \"accuracy_test\": 0.8755000000000001, \"accuracy_train\": 0.998, \"pred_time\": 4.301600456237793, \"time_taken\": 57.41}, {\"dataset\": \"scope\", \"model\": \"lr\", \"emb\": \"use\", \"train_size\": 4000, \"test_size\": 4000, \"accuracy_test\": 0.88175, \"accuracy_train\": 0.9972500000000001, \"pred_time\": 4.298020839691162, \"time_taken\": 66.41}, {\"dataset\": \"scope\", \"model\": \"lr\", \"emb\": \"use\", \"train_size\": 4500, \"test_size\": 4000, \"accuracy_test\": 0.8865000000000001, \"accuracy_train\": 0.9973333333333331, \"pred_time\": 4.29729437828064, \"time_taken\": 70.1}, {\"dataset\": \"scope\", \"model\": \"lr\", \"emb\": \"use\", \"train_size\": 5000, \"test_size\": 4000, \"accuracy_test\": 0.89675, \"accuracy_train\": 0.9962000000000001, \"pred_time\": 4.304081678390503, \"time_taken\": 77.83}, {\"dataset\": \"scope\", \"model\": \"lr\", \"emb\": \"use\", \"train_size\": 5500, \"test_size\": 4000, \"accuracy_test\": 0.90175, \"accuracy_train\": 0.996, \"pred_time\": 4.285617589950561, \"time_taken\": 86.89}, {\"dataset\": \"scope\", \"model\": \"lr\", \"emb\": \"use\", \"train_size\": 6000, \"test_size\": 4000, \"accuracy_test\": 0.9065000000000001, \"accuracy_train\": 0.9965, \"pred_time\": 4.321293830871582, \"time_taken\": 123.94}, {\"dataset\": \"scope\", \"model\": \"lr\", \"emb\": \"use\", \"train_size\": 6500, \"test_size\": 4000, \"accuracy_test\": 0.9092500000000001, \"accuracy_train\": 0.9964615384615381, \"pred_time\": 4.301099061965942, \"time_taken\": 136.0}, {\"dataset\": \"scope\", \"model\": \"lr\", \"emb\": \"use\", \"train_size\": 7000, \"test_size\": 4000, \"accuracy_test\": 0.912, \"accuracy_train\": 0.9965714285714281, \"pred_time\": 4.292471647262573, \"time_taken\": 148.71}, {\"dataset\": \"scope\", \"model\": \"lr\", \"emb\": \"use\", \"train_size\": 7500, \"test_size\": 4000, \"accuracy_test\": 0.915, \"accuracy_train\": 0.9962666666666661, \"pred_time\": 4.3266870975494385, \"time_taken\": 178.36}, {\"dataset\": \"scope\", \"model\": \"lr\", \"emb\": \"use\", \"train_size\": 8000, \"test_size\": 4000, \"accuracy_test\": 0.9165000000000001, \"accuracy_train\": 0.9963749999999999, \"pred_time\": 4.319508075714111, \"time_taken\": 179.46}, {\"dataset\": \"scope\", \"model\": \"lr\", \"emb\": \"use\", \"train_size\": 8500, \"test_size\": 4000, \"accuracy_test\": 0.919, \"accuracy_train\": 0.9962352941176471, \"pred_time\": 4.291066646575928, \"time_taken\": 194.03}, {\"dataset\": \"scope\", \"model\": \"lr\", \"emb\": \"use\", \"train_size\": 9000, \"test_size\": 4000, \"accuracy_test\": 0.9217500000000001, \"accuracy_train\": 0.996, \"pred_time\": 4.30959153175354, \"time_taken\": 206.82}, {\"dataset\": \"scope\", \"model\": \"lr\", \"emb\": \"use\", \"train_size\": 9500, \"test_size\": 4000, \"accuracy_test\": 0.9247500000000001, \"accuracy_train\": 0.9956842105263151, \"pred_time\": 4.291162014007568, \"time_taken\": 220.63}, {\"dataset\": \"scope\", \"model\": \"lr\", \"emb\": \"cv-ngram\", \"train_size\": 500, \"test_size\": 4000, \"accuracy_test\": 0.5567500000000001, \"accuracy_train\": 1.0, \"pred_time\": 0.17368674278259202, \"time_taken\": 0.86}, {\"dataset\": \"scope\", \"model\": \"lr\", \"emb\": \"cv-ngram\", \"train_size\": 1000, \"test_size\": 4000, \"accuracy_test\": 0.7047500000000001, \"accuracy_train\": 0.999, \"pred_time\": 0.17651462554931602, \"time_taken\": 1.51}, {\"dataset\": \"scope\", \"model\": \"lr\", \"emb\": \"cv-ngram\", \"train_size\": 1500, \"test_size\": 4000, \"accuracy_test\": 0.77475, \"accuracy_train\": 0.998666666666666, \"pred_time\": 0.176419734954833, \"time_taken\": 2.18}, {\"dataset\": \"scope\", \"model\": \"lr\", \"emb\": \"cv-ngram\", \"train_size\": 2000, \"test_size\": 4000, \"accuracy_test\": 0.8105, \"accuracy_train\": 0.9995, \"pred_time\": 0.17655467987060502, \"time_taken\": 2.96}, {\"dataset\": \"scope\", \"model\": \"lr\", \"emb\": \"cv-ngram\", \"train_size\": 2500, \"test_size\": 4000, \"accuracy_test\": 0.82925, \"accuracy_train\": 0.9984000000000001, \"pred_time\": 0.17617464065551702, \"time_taken\": 3.8200000000000003}, {\"dataset\": \"scope\", \"model\": \"lr\", \"emb\": \"cv-ngram\", \"train_size\": 3000, \"test_size\": 4000, \"accuracy_test\": 0.85, \"accuracy_train\": 0.998, \"pred_time\": 0.17685651779174802, \"time_taken\": 4.57}, {\"dataset\": \"scope\", \"model\": \"lr\", \"emb\": \"cv-ngram\", \"train_size\": 3500, \"test_size\": 4000, \"accuracy_test\": 0.869, \"accuracy_train\": 0.9977142857142851, \"pred_time\": 0.176512241363525, \"time_taken\": 5.35}, {\"dataset\": \"scope\", \"model\": \"lr\", \"emb\": \"cv-ngram\", \"train_size\": 4000, \"test_size\": 4000, \"accuracy_test\": 0.8752500000000001, \"accuracy_train\": 0.997, \"pred_time\": 0.17818188667297302, \"time_taken\": 6.15}, {\"dataset\": \"scope\", \"model\": \"lr\", \"emb\": \"cv-ngram\", \"train_size\": 4500, \"test_size\": 4000, \"accuracy_test\": 0.879, \"accuracy_train\": 0.996888888888888, \"pred_time\": 0.17683577537536602, \"time_taken\": 7.43}, {\"dataset\": \"scope\", \"model\": \"lr\", \"emb\": \"cv-ngram\", \"train_size\": 5000, \"test_size\": 4000, \"accuracy_test\": 0.8885000000000001, \"accuracy_train\": 0.996, \"pred_time\": 0.177859783172607, \"time_taken\": 9.02}, {\"dataset\": \"scope\", \"model\": \"lr\", \"emb\": \"cv-ngram\", \"train_size\": 5500, \"test_size\": 4000, \"accuracy_test\": 0.894, \"accuracy_train\": 0.9956363636363631, \"pred_time\": 0.17731571197509702, \"time_taken\": 9.72}, {\"dataset\": \"scope\", \"model\": \"lr\", \"emb\": \"cv-ngram\", \"train_size\": 6000, \"test_size\": 4000, \"accuracy_test\": 0.8975000000000001, \"accuracy_train\": 0.9955, \"pred_time\": 0.17669701576232902, \"time_taken\": 12.23}, {\"dataset\": \"scope\", \"model\": \"lr\", \"emb\": \"cv-ngram\", \"train_size\": 6500, \"test_size\": 4000, \"accuracy_test\": 0.90075, \"accuracy_train\": 0.995846153846153, \"pred_time\": 0.177241086959838, \"time_taken\": 13.85}, {\"dataset\": \"scope\", \"model\": \"lr\", \"emb\": \"cv-ngram\", \"train_size\": 7000, \"test_size\": 4000, \"accuracy_test\": 0.90375, \"accuracy_train\": 0.996, \"pred_time\": 0.17621016502380302, \"time_taken\": 20.67}, {\"dataset\": \"scope\", \"model\": \"lr\", \"emb\": \"cv-ngram\", \"train_size\": 7500, \"test_size\": 4000, \"accuracy_test\": 0.9085000000000001, \"accuracy_train\": 0.9961333333333331, \"pred_time\": 0.17662143707275302, \"time_taken\": 24.64}, {\"dataset\": \"scope\", \"model\": \"lr\", \"emb\": \"cv-ngram\", \"train_size\": 8000, \"test_size\": 4000, \"accuracy_test\": 0.912, \"accuracy_train\": 0.995625, \"pred_time\": 0.17619276046752902, \"time_taken\": 26.94}, {\"dataset\": \"scope\", \"model\": \"lr\", \"emb\": \"cv-ngram\", \"train_size\": 8500, \"test_size\": 4000, \"accuracy_test\": 0.9115000000000001, \"accuracy_train\": 0.9955294117647051, \"pred_time\": 0.17797327041625902, \"time_taken\": 33.41}, {\"dataset\": \"scope\", \"model\": \"lr\", \"emb\": \"cv-ngram\", \"train_size\": 9000, \"test_size\": 4000, \"accuracy_test\": 0.9137500000000001, \"accuracy_train\": 0.9953333333333331, \"pred_time\": 0.17589163780212402, \"time_taken\": 31.29}, {\"dataset\": \"scope\", \"model\": \"lr\", \"emb\": \"cv-ngram\", \"train_size\": 9500, \"test_size\": 4000, \"accuracy_test\": 0.9185000000000001, \"accuracy_train\": 0.9944210526315791, \"pred_time\": 0.17615866661071702, \"time_taken\": 33.87}]}}, {\"mode\": \"vega-lite\"});\n",
       "</script>"
      ],
      "text/plain": [
       "alt.Chart(...)"
      ]
     },
     "execution_count": 8,
     "metadata": {},
     "output_type": "execute_result"
    }
   ],
   "source": [
    "(alt.Chart(df.loc[lambda d: d['dataset'] == 'scope'])\n",
    "      .mark_line()\n",
    "      .encode(x='train_size', y='accuracy_test', color=alt.Color('emb'))\n",
    "      .properties(width=800, height=250, title=f\"test performance\")\n",
    "      .interactive())"
   ]
  },
  {
   "cell_type": "markdown",
   "metadata": {},
   "source": [
    "But even this ... isn't the most broken part of the benchmark. Let's sample our original dataset again."
   ]
  },
  {
   "cell_type": "code",
   "execution_count": 9,
   "metadata": {},
   "outputs": [
    {
     "data": {
      "text/html": [
       "<div>\n",
       "<style scoped>\n",
       "    .dataframe tbody tr th:only-of-type {\n",
       "        vertical-align: middle;\n",
       "    }\n",
       "\n",
       "    .dataframe tbody tr th {\n",
       "        vertical-align: top;\n",
       "    }\n",
       "\n",
       "    .dataframe thead th {\n",
       "        text-align: right;\n",
       "    }\n",
       "</style>\n",
       "<table border=\"1\" class=\"dataframe\">\n",
       "  <thead>\n",
       "    <tr style=\"text-align: right;\">\n",
       "      <th></th>\n",
       "      <th>text</th>\n",
       "      <th>label</th>\n",
       "    </tr>\n",
       "  </thead>\n",
       "  <tbody>\n",
       "    <tr>\n",
       "      <th>17605</th>\n",
       "      <td>play some music for me</td>\n",
       "      <td>play_music</td>\n",
       "    </tr>\n",
       "    <tr>\n",
       "      <th>5803</th>\n",
       "      <td>is my card made immedietly after reporting stolen</td>\n",
       "      <td>replacement_card_duration</td>\n",
       "    </tr>\n",
       "    <tr>\n",
       "      <th>12600</th>\n",
       "      <td>where can i see the routing number for bmo</td>\n",
       "      <td>routing</td>\n",
       "    </tr>\n",
       "    <tr>\n",
       "      <th>2994</th>\n",
       "      <td>is there a fee if i use my card in france</td>\n",
       "      <td>international_fees</td>\n",
       "    </tr>\n",
       "    <tr>\n",
       "      <th>14846</th>\n",
       "      <td>i'm thinking someone may have used my card in ...</td>\n",
       "      <td>report_fraud</td>\n",
       "    </tr>\n",
       "    <tr>\n",
       "      <th>11756</th>\n",
       "      <td>dial someone's phone number</td>\n",
       "      <td>make_call</td>\n",
       "    </tr>\n",
       "    <tr>\n",
       "      <th>17266</th>\n",
       "      <td>write a text to alice</td>\n",
       "      <td>text</td>\n",
       "    </tr>\n",
       "    <tr>\n",
       "      <th>2926</th>\n",
       "      <td>what could cause a hold on my savings account</td>\n",
       "      <td>account_blocked</td>\n",
       "    </tr>\n",
       "    <tr>\n",
       "      <th>8857</th>\n",
       "      <td>i am needing for you to say that again</td>\n",
       "      <td>repeat</td>\n",
       "    </tr>\n",
       "    <tr>\n",
       "      <th>11140</th>\n",
       "      <td>roll a dice and give me a number from 1 to 6</td>\n",
       "      <td>roll_dice</td>\n",
       "    </tr>\n",
       "    <tr>\n",
       "      <th>21793</th>\n",
       "      <td>do i need to get any shots before visiting fam...</td>\n",
       "      <td>vaccines</td>\n",
       "    </tr>\n",
       "    <tr>\n",
       "      <th>19754</th>\n",
       "      <td>what date is the next payday</td>\n",
       "      <td>payday</td>\n",
       "    </tr>\n",
       "    <tr>\n",
       "      <th>11969</th>\n",
       "      <td>can i hear the complete to do list just dictated</td>\n",
       "      <td>todo_list</td>\n",
       "    </tr>\n",
       "    <tr>\n",
       "      <th>18235</th>\n",
       "      <td>i don't need my reservation, cancel it</td>\n",
       "      <td>cancel_reservation</td>\n",
       "    </tr>\n",
       "    <tr>\n",
       "      <th>11388</th>\n",
       "      <td>how long should i cook chicken thighs</td>\n",
       "      <td>cook_time</td>\n",
       "    </tr>\n",
       "    <tr>\n",
       "      <th>3191</th>\n",
       "      <td>get me a hotel in phoenix near chase field fro...</td>\n",
       "      <td>book_hotel</td>\n",
       "    </tr>\n",
       "    <tr>\n",
       "      <th>13034</th>\n",
       "      <td>i have to know what plug that country uses</td>\n",
       "      <td>plug_type</td>\n",
       "    </tr>\n",
       "    <tr>\n",
       "      <th>10321</th>\n",
       "      <td>can you help me solve a math problem</td>\n",
       "      <td>calculator</td>\n",
       "    </tr>\n",
       "    <tr>\n",
       "      <th>5837</th>\n",
       "      <td>how long will it take a new card to come in th...</td>\n",
       "      <td>replacement_card_duration</td>\n",
       "    </tr>\n",
       "    <tr>\n",
       "      <th>23493</th>\n",
       "      <td>can you detect where i placed my wallet</td>\n",
       "      <td>oos</td>\n",
       "    </tr>\n",
       "    <tr>\n",
       "      <th>4986</th>\n",
       "      <td>does life have a meaning, according to you</td>\n",
       "      <td>meaning_of_life</td>\n",
       "    </tr>\n",
       "    <tr>\n",
       "      <th>9772</th>\n",
       "      <td>whats the pressure like in my tires</td>\n",
       "      <td>tire_pressure</td>\n",
       "    </tr>\n",
       "    <tr>\n",
       "      <th>7214</th>\n",
       "      <td>can you put a stop on my bank account now</td>\n",
       "      <td>freeze_account</td>\n",
       "    </tr>\n",
       "    <tr>\n",
       "      <th>17840</th>\n",
       "      <td>are you a computer</td>\n",
       "      <td>are_you_a_bot</td>\n",
       "    </tr>\n",
       "    <tr>\n",
       "      <th>1282</th>\n",
       "      <td>i've lost my luggage what should i do now</td>\n",
       "      <td>lost_luggage</td>\n",
       "    </tr>\n",
       "  </tbody>\n",
       "</table>\n",
       "</div>"
      ],
      "text/plain": [
       "                                                    text  \\\n",
       "17605                             play some music for me   \n",
       "5803   is my card made immedietly after reporting stolen   \n",
       "12600         where can i see the routing number for bmo   \n",
       "2994           is there a fee if i use my card in france   \n",
       "14846  i'm thinking someone may have used my card in ...   \n",
       "11756                        dial someone's phone number   \n",
       "17266                              write a text to alice   \n",
       "2926       what could cause a hold on my savings account   \n",
       "8857              i am needing for you to say that again   \n",
       "11140       roll a dice and give me a number from 1 to 6   \n",
       "21793  do i need to get any shots before visiting fam...   \n",
       "19754                       what date is the next payday   \n",
       "11969   can i hear the complete to do list just dictated   \n",
       "18235             i don't need my reservation, cancel it   \n",
       "11388              how long should i cook chicken thighs   \n",
       "3191   get me a hotel in phoenix near chase field fro...   \n",
       "13034         i have to know what plug that country uses   \n",
       "10321               can you help me solve a math problem   \n",
       "5837   how long will it take a new card to come in th...   \n",
       "23493            can you detect where i placed my wallet   \n",
       "4986          does life have a meaning, according to you   \n",
       "9772                 whats the pressure like in my tires   \n",
       "7214           can you put a stop on my bank account now   \n",
       "17840                                 are you a computer   \n",
       "1282           i've lost my luggage what should i do now   \n",
       "\n",
       "                           label  \n",
       "17605                 play_music  \n",
       "5803   replacement_card_duration  \n",
       "12600                    routing  \n",
       "2994          international_fees  \n",
       "14846               report_fraud  \n",
       "11756                  make_call  \n",
       "17266                       text  \n",
       "2926             account_blocked  \n",
       "8857                      repeat  \n",
       "11140                  roll_dice  \n",
       "21793                   vaccines  \n",
       "19754                     payday  \n",
       "11969                  todo_list  \n",
       "18235         cancel_reservation  \n",
       "11388                  cook_time  \n",
       "3191                  book_hotel  \n",
       "13034                  plug_type  \n",
       "10321                 calculator  \n",
       "5837   replacement_card_duration  \n",
       "23493                        oos  \n",
       "4986             meaning_of_life  \n",
       "9772               tire_pressure  \n",
       "7214              freeze_account  \n",
       "17840              are_you_a_bot  \n",
       "1282                lost_luggage  "
      ]
     },
     "execution_count": 9,
     "metadata": {},
     "output_type": "execute_result"
    }
   ],
   "source": [
    "pd.read_csv(\"data/outofscope-intent-classification-dataset.csv\").sample(25)"
   ]
  },
  {
   "cell_type": "markdown",
   "metadata": {},
   "source": [
    "Does this dataset ... resemble an actual assistant out there? Or does it resemble a weird mix of just all of them?"
   ]
  }
 ],
 "metadata": {
  "kernelspec": {
   "display_name": "Python 3 (ipykernel)",
   "language": "python",
   "name": "python3"
  },
  "language_info": {
   "codemirror_mode": {
    "name": "ipython",
    "version": 3
   },
   "file_extension": ".py",
   "mimetype": "text/x-python",
   "name": "python",
   "nbconvert_exporter": "python",
   "pygments_lexer": "ipython3",
   "version": "3.7.7"
  }
 },
 "nbformat": 4,
 "nbformat_minor": 4
}
