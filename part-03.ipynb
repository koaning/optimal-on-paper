{
 "cells": [
  {
   "cell_type": "code",
   "execution_count": 1,
   "id": "d428cbfb-fe35-4a63-afdf-2b8488940373",
   "metadata": {},
   "outputs": [],
   "source": [
    "import pandas as pd"
   ]
  },
  {
   "cell_type": "code",
   "execution_count": 2,
   "id": "d9f7bee2-7a1b-4a31-9a2a-3d320c51e27a",
   "metadata": {},
   "outputs": [],
   "source": [
    "df = pd.read_csv(\"data/goemotions_1.csv\")"
   ]
  },
  {
   "cell_type": "code",
   "execution_count": 3,
   "id": "302e85e3-889c-449b-9f46-bc9af922415b",
   "metadata": {},
   "outputs": [],
   "source": [
    "from sklearn.pipeline import make_pipeline\n",
    "from sklearn.linear_model import LogisticRegression\n",
    "from sklearn.feature_extraction.text import CountVectorizer"
   ]
  },
  {
   "cell_type": "code",
   "execution_count": 7,
   "id": "60634b1a-0749-4496-ba2a-83b7d943c96f",
   "metadata": {},
   "outputs": [
    {
     "data": {
      "text/html": [
       "<div>\n",
       "<style scoped>\n",
       "    .dataframe tbody tr th:only-of-type {\n",
       "        vertical-align: middle;\n",
       "    }\n",
       "\n",
       "    .dataframe tbody tr th {\n",
       "        vertical-align: top;\n",
       "    }\n",
       "\n",
       "    .dataframe thead th {\n",
       "        text-align: right;\n",
       "    }\n",
       "</style>\n",
       "<table border=\"1\" class=\"dataframe\">\n",
       "  <thead>\n",
       "    <tr style=\"text-align: right;\">\n",
       "      <th></th>\n",
       "      <th>text</th>\n",
       "      <th>excitement</th>\n",
       "    </tr>\n",
       "  </thead>\n",
       "  <tbody>\n",
       "    <tr>\n",
       "      <th>37422</th>\n",
       "      <td>Nice ;)</td>\n",
       "      <td>0</td>\n",
       "    </tr>\n",
       "    <tr>\n",
       "      <th>37430</th>\n",
       "      <td>Date me and fix me. Then date someone who shares my inability to cheat. There's gotta be someone like me out there.</td>\n",
       "      <td>0</td>\n",
       "    </tr>\n",
       "    <tr>\n",
       "      <th>25283</th>\n",
       "      <td>that this ridiculous comparison is this detailed and explicit makes me think the whole beating-a-little-girl-thing is part of his disgusting sexual fantasies.</td>\n",
       "      <td>0</td>\n",
       "    </tr>\n",
       "    <tr>\n",
       "      <th>35008</th>\n",
       "      <td>I see you saw the new season of gotham</td>\n",
       "      <td>0</td>\n",
       "    </tr>\n",
       "  </tbody>\n",
       "</table>\n",
       "</div>"
      ],
      "text/plain": [
       "                                                                                                                                                                 text  \\\n",
       "37422                                                                                                                                                         Nice ;)   \n",
       "37430                                             Date me and fix me. Then date someone who shares my inability to cheat. There's gotta be someone like me out there.   \n",
       "25283  that this ridiculous comparison is this detailed and explicit makes me think the whole beating-a-little-girl-thing is part of his disgusting sexual fantasies.   \n",
       "35008                                                                                                                          I see you saw the new season of gotham   \n",
       "\n",
       "       excitement  \n",
       "37422           0  \n",
       "37430           0  \n",
       "25283           0  \n",
       "35008           0  "
      ]
     },
     "execution_count": 7,
     "metadata": {},
     "output_type": "execute_result"
    }
   ],
   "source": [
    "pd.set_option('display.max_colwidth', None)\n",
    "label_of_interest = 'excitement'\n",
    "\n",
    "df[['text', label_of_interest]].loc[lambda d: d[label_of_interest] == 0].sample(4)"
   ]
  },
  {
   "cell_type": "code",
   "execution_count": 22,
   "id": "b23b9981-c4fd-480f-aa0e-4197550d961e",
   "metadata": {},
   "outputs": [
    {
     "data": {
      "text/plain": [
       "0    68100\n",
       "1     1900\n",
       "Name: excitement, dtype: int64"
      ]
     },
     "execution_count": 22,
     "metadata": {},
     "output_type": "execute_result"
    }
   ],
   "source": [
    "df[label_of_interest].value_counts()"
   ]
  },
  {
   "cell_type": "code",
   "execution_count": 8,
   "id": "5fb6b7e6-0116-4241-9c61-f0666726cba8",
   "metadata": {},
   "outputs": [],
   "source": [
    "X, y = list(df['text']), df[label_of_interest]\n",
    "\n",
    "pipe = make_pipeline(\n",
    "    CountVectorizer(), \n",
    "    LogisticRegression(class_weight='balanced', max_iter=1000)\n",
    ")"
   ]
  },
  {
   "cell_type": "code",
   "execution_count": 9,
   "id": "572bb549-39fc-48c3-8d5c-e9802f648ab8",
   "metadata": {},
   "outputs": [],
   "source": [
    "from sklearn.pipeline import make_union\n",
    "from whatlies.language import BytePairLanguage\n",
    "\n",
    "pipe_emb = make_pipeline(\n",
    "    make_union(\n",
    "        BytePairLanguage(\"en\", vs=1_000), \n",
    "        BytePairLanguage(\"en\", vs=100_000)\n",
    "    ),\n",
    "    LogisticRegression(class_weight='balanced', max_iter=1000)\n",
    ")"
   ]
  },
  {
   "cell_type": "code",
   "execution_count": 12,
   "id": "af5d77e4-2721-4602-b7d8-f9ba7c73ebc9",
   "metadata": {},
   "outputs": [],
   "source": [
    "from doubtlab.ensemble import DoubtEnsemble\n",
    "from doubtlab.reason import ProbaReason, DisagreeReason, ShortConfidenceReason"
   ]
  },
  {
   "cell_type": "code",
   "execution_count": 13,
   "id": "f915ebce-a79a-4cae-a650-35629bd70664",
   "metadata": {},
   "outputs": [
    {
     "data": {
      "text/plain": [
       "Pipeline(steps=[('featureunion',\n",
       "                 FeatureUnion(transformer_list=[('bytepairlanguage-1',\n",
       "                                                 BytePairLanguage(lang='en',\n",
       "                                                                  vs=1000)),\n",
       "                                                ('bytepairlanguage-2',\n",
       "                                                 BytePairLanguage(lang='en',\n",
       "                                                                  vs=100000))])),\n",
       "                ('logisticregression',\n",
       "                 LogisticRegression(class_weight='balanced', max_iter=1000))])"
      ]
     },
     "execution_count": 13,
     "metadata": {},
     "output_type": "execute_result"
    }
   ],
   "source": [
    "pipe.fit(X, y)\n",
    "pipe_emb.fit(X, y)"
   ]
  },
  {
   "cell_type": "code",
   "execution_count": 14,
   "id": "9d7ba2fc-82f5-447f-b84e-cd11b3af1908",
   "metadata": {},
   "outputs": [],
   "source": [
    "reasons = {\n",
    "    'proba': ProbaReason(pipe),\n",
    "    'disagree': DisagreeReason(pipe, pipe_emb),\n",
    "    'short_pipe': ShortConfidenceReason(pipe),\n",
    "    'short_pipe_emb': ShortConfidenceReason(pipe_emb),\n",
    "}\n",
    "\n",
    "doubt = DoubtEnsemble(**reasons)"
   ]
  },
  {
   "cell_type": "code",
   "execution_count": 15,
   "id": "9efafe8b-3ffd-4532-9a6e-2e7ea8c8bfe5",
   "metadata": {},
   "outputs": [],
   "source": [
    "predicates = doubt.get_predicates(X, y)"
   ]
  },
  {
   "cell_type": "code",
   "execution_count": 16,
   "id": "64a104e9-4088-4fbf-8a32-f0f441904c40",
   "metadata": {},
   "outputs": [],
   "source": [
    "df_sorted = df.iloc[predicates.index][['text', label_of_interest]]\n",
    "df_label = pd.concat([df_sorted, predicates], axis=1)"
   ]
  },
  {
   "cell_type": "code",
   "execution_count": 17,
   "id": "fcf760fb-b509-406a-b005-f8f0bf8197c3",
   "metadata": {},
   "outputs": [
    {
     "data": {
      "text/html": [
       "<div>\n",
       "<style scoped>\n",
       "    .dataframe tbody tr th:only-of-type {\n",
       "        vertical-align: middle;\n",
       "    }\n",
       "\n",
       "    .dataframe tbody tr th {\n",
       "        vertical-align: top;\n",
       "    }\n",
       "\n",
       "    .dataframe thead th {\n",
       "        text-align: right;\n",
       "    }\n",
       "</style>\n",
       "<table border=\"1\" class=\"dataframe\">\n",
       "  <thead>\n",
       "    <tr style=\"text-align: right;\">\n",
       "      <th></th>\n",
       "      <th>text</th>\n",
       "      <th>excitement</th>\n",
       "    </tr>\n",
       "  </thead>\n",
       "  <tbody>\n",
       "    <tr>\n",
       "      <th>6361</th>\n",
       "      <td>Happy Easter everyone!!</td>\n",
       "      <td>0</td>\n",
       "    </tr>\n",
       "    <tr>\n",
       "      <th>14190</th>\n",
       "      <td>Happy Easter everyone!!</td>\n",
       "      <td>0</td>\n",
       "    </tr>\n",
       "    <tr>\n",
       "      <th>47225</th>\n",
       "      <td>Happy Easter everyone!!</td>\n",
       "      <td>0</td>\n",
       "    </tr>\n",
       "    <tr>\n",
       "      <th>25404</th>\n",
       "      <td>Congratulations mate!!</td>\n",
       "      <td>0</td>\n",
       "    </tr>\n",
       "    <tr>\n",
       "      <th>22615</th>\n",
       "      <td>Yes every time</td>\n",
       "      <td>0</td>\n",
       "    </tr>\n",
       "    <tr>\n",
       "      <th>1847</th>\n",
       "      <td>New flavour! I love it!</td>\n",
       "      <td>0</td>\n",
       "    </tr>\n",
       "    <tr>\n",
       "      <th>50341</th>\n",
       "      <td>Wow! Prayers for everyone there.</td>\n",
       "      <td>0</td>\n",
       "    </tr>\n",
       "    <tr>\n",
       "      <th>63154</th>\n",
       "      <td>Wow! Prayers for everyone there.</td>\n",
       "      <td>0</td>\n",
       "    </tr>\n",
       "    <tr>\n",
       "      <th>22995</th>\n",
       "      <td>Hey vro!</td>\n",
       "      <td>0</td>\n",
       "    </tr>\n",
       "    <tr>\n",
       "      <th>66589</th>\n",
       "      <td>Oh my gooooooooood</td>\n",
       "      <td>0</td>\n",
       "    </tr>\n",
       "  </tbody>\n",
       "</table>\n",
       "</div>"
      ],
      "text/plain": [
       "                                   text  excitement\n",
       "6361            Happy Easter everyone!!           0\n",
       "14190           Happy Easter everyone!!           0\n",
       "47225           Happy Easter everyone!!           0\n",
       "25404            Congratulations mate!!           0\n",
       "22615                    Yes every time           0\n",
       "1847            New flavour! I love it!           0\n",
       "50341  Wow! Prayers for everyone there.           0\n",
       "63154  Wow! Prayers for everyone there.           0\n",
       "22995                          Hey vro!           0\n",
       "66589                Oh my gooooooooood           0"
      ]
     },
     "execution_count": 17,
     "metadata": {},
     "output_type": "execute_result"
    }
   ],
   "source": [
    "(df_label[['text', label_of_interest]]\n",
    "  .loc[lambda d: d['excitement'] == 0]\n",
    "  .head(10))"
   ]
  },
  {
   "cell_type": "markdown",
   "id": "a1c48152-a8ba-43cf-b12b-7e4e863c085a",
   "metadata": {
    "tags": []
   },
   "source": [
    "## Differences \n",
    "\n",
    "It's pretty interesting to observe that different predicates really represent different reasons of doubt.\n",
    "\n",
    "### CountVector Confidence Short"
   ]
  },
  {
   "cell_type": "code",
   "execution_count": 18,
   "id": "d9732567-48a8-4fb9-9df9-e7d7f7a91775",
   "metadata": {},
   "outputs": [
    {
     "data": {
      "text/html": [
       "<div>\n",
       "<style scoped>\n",
       "    .dataframe tbody tr th:only-of-type {\n",
       "        vertical-align: middle;\n",
       "    }\n",
       "\n",
       "    .dataframe tbody tr th {\n",
       "        vertical-align: top;\n",
       "    }\n",
       "\n",
       "    .dataframe thead th {\n",
       "        text-align: right;\n",
       "    }\n",
       "</style>\n",
       "<table border=\"1\" class=\"dataframe\">\n",
       "  <thead>\n",
       "    <tr style=\"text-align: right;\">\n",
       "      <th></th>\n",
       "      <th>text</th>\n",
       "      <th>excitement</th>\n",
       "    </tr>\n",
       "  </thead>\n",
       "  <tbody>\n",
       "    <tr>\n",
       "      <th>5676</th>\n",
       "      <td>I am inexplicably excited by [NAME]. I get so excited by how he curls passes</td>\n",
       "      <td>0</td>\n",
       "    </tr>\n",
       "    <tr>\n",
       "      <th>42757</th>\n",
       "      <td>Omg this is so amazing ! Keep up the awesome work and have a fantastic New Year !</td>\n",
       "      <td>0</td>\n",
       "    </tr>\n",
       "    <tr>\n",
       "      <th>24756</th>\n",
       "      <td>Sounds like a fun game. Our home game around here is .05/.10. Its fun but not very exciting.</td>\n",
       "      <td>0</td>\n",
       "    </tr>\n",
       "    <tr>\n",
       "      <th>44459</th>\n",
       "      <td>So no replays for arsenal penalty calls.. Cool cool cool cool cool cool cool cool</td>\n",
       "      <td>0</td>\n",
       "    </tr>\n",
       "    <tr>\n",
       "      <th>69395</th>\n",
       "      <td>Wow, your posting history is a real... interesting ride.</td>\n",
       "      <td>0</td>\n",
       "    </tr>\n",
       "    <tr>\n",
       "      <th>2001</th>\n",
       "      <td>No different than people making a big deal about their team winning the super bowl. People find it interesting.</td>\n",
       "      <td>0</td>\n",
       "    </tr>\n",
       "    <tr>\n",
       "      <th>30921</th>\n",
       "      <td>Hey congrats!! That's amazing, you've done such amazing progress! Hope you have a great day :)</td>\n",
       "      <td>0</td>\n",
       "    </tr>\n",
       "    <tr>\n",
       "      <th>39475</th>\n",
       "      <td>I just read your list and now I can't wait, either!! Hurry up with the happy, relieved and peaceful onward and upward!! Congratulations😎</td>\n",
       "      <td>0</td>\n",
       "    </tr>\n",
       "  </tbody>\n",
       "</table>\n",
       "</div>"
      ],
      "text/plain": [
       "                                                                                                                                           text  \\\n",
       "5676                                                               I am inexplicably excited by [NAME]. I get so excited by how he curls passes   \n",
       "42757                                                         Omg this is so amazing ! Keep up the awesome work and have a fantastic New Year !   \n",
       "24756                                              Sounds like a fun game. Our home game around here is .05/.10. Its fun but not very exciting.   \n",
       "44459                                                         So no replays for arsenal penalty calls.. Cool cool cool cool cool cool cool cool   \n",
       "69395                                                                                  Wow, your posting history is a real... interesting ride.   \n",
       "2001                            No different than people making a big deal about their team winning the super bowl. People find it interesting.   \n",
       "30921                                            Hey congrats!! That's amazing, you've done such amazing progress! Hope you have a great day :)   \n",
       "39475  I just read your list and now I can't wait, either!! Hurry up with the happy, relieved and peaceful onward and upward!! Congratulations😎   \n",
       "\n",
       "       excitement  \n",
       "5676            0  \n",
       "42757           0  \n",
       "24756           0  \n",
       "44459           0  \n",
       "69395           0  \n",
       "2001            0  \n",
       "30921           0  \n",
       "39475           0  "
      ]
     },
     "execution_count": 18,
     "metadata": {},
     "output_type": "execute_result"
    }
   ],
   "source": [
    "(df_label\n",
    " .sort_values(\"predicate_short_pipe\", ascending=False)\n",
    " .head(10)[['text', label_of_interest]]\n",
    " .drop_duplicates())"
   ]
  },
  {
   "cell_type": "markdown",
   "id": "3ba28b17-3091-4280-943a-82188e7527d7",
   "metadata": {},
   "source": [
    "### BytePair Confidence Short"
   ]
  },
  {
   "cell_type": "code",
   "execution_count": 19,
   "id": "49bd2f7b-fafc-44dc-a43b-ae4489e84ca4",
   "metadata": {},
   "outputs": [
    {
     "data": {
      "text/html": [
       "<div>\n",
       "<style scoped>\n",
       "    .dataframe tbody tr th:only-of-type {\n",
       "        vertical-align: middle;\n",
       "    }\n",
       "\n",
       "    .dataframe tbody tr th {\n",
       "        vertical-align: top;\n",
       "    }\n",
       "\n",
       "    .dataframe thead th {\n",
       "        text-align: right;\n",
       "    }\n",
       "</style>\n",
       "<table border=\"1\" class=\"dataframe\">\n",
       "  <thead>\n",
       "    <tr style=\"text-align: right;\">\n",
       "      <th></th>\n",
       "      <th>text</th>\n",
       "      <th>excitement</th>\n",
       "    </tr>\n",
       "  </thead>\n",
       "  <tbody>\n",
       "    <tr>\n",
       "      <th>56660</th>\n",
       "      <td>Woot woot!</td>\n",
       "      <td>0</td>\n",
       "    </tr>\n",
       "    <tr>\n",
       "      <th>60381</th>\n",
       "      <td>WOW!!!</td>\n",
       "      <td>0</td>\n",
       "    </tr>\n",
       "    <tr>\n",
       "      <th>42584</th>\n",
       "      <td>Happy Birthday!</td>\n",
       "      <td>0</td>\n",
       "    </tr>\n",
       "    <tr>\n",
       "      <th>66821</th>\n",
       "      <td>Happy birthday!</td>\n",
       "      <td>0</td>\n",
       "    </tr>\n",
       "    <tr>\n",
       "      <th>35491</th>\n",
       "      <td>Happy one week anniversary</td>\n",
       "      <td>0</td>\n",
       "    </tr>\n",
       "    <tr>\n",
       "      <th>44679</th>\n",
       "      <td>Happy Birthday!!!</td>\n",
       "      <td>0</td>\n",
       "    </tr>\n",
       "    <tr>\n",
       "      <th>58193</th>\n",
       "      <td>Pop pop!</td>\n",
       "      <td>0</td>\n",
       "    </tr>\n",
       "    <tr>\n",
       "      <th>52095</th>\n",
       "      <td>Enjoy the ride!</td>\n",
       "      <td>0</td>\n",
       "    </tr>\n",
       "    <tr>\n",
       "      <th>3545</th>\n",
       "      <td>Very interesting!!!</td>\n",
       "      <td>0</td>\n",
       "    </tr>\n",
       "    <tr>\n",
       "      <th>9843</th>\n",
       "      <td>My exact reaction</td>\n",
       "      <td>0</td>\n",
       "    </tr>\n",
       "    <tr>\n",
       "      <th>7522</th>\n",
       "      <td>happy birthday dude!</td>\n",
       "      <td>0</td>\n",
       "    </tr>\n",
       "    <tr>\n",
       "      <th>25576</th>\n",
       "      <td>Oh wow!!!</td>\n",
       "      <td>0</td>\n",
       "    </tr>\n",
       "    <tr>\n",
       "      <th>47166</th>\n",
       "      <td>Enjoy</td>\n",
       "      <td>0</td>\n",
       "    </tr>\n",
       "    <tr>\n",
       "      <th>63386</th>\n",
       "      <td>This sounds interesting</td>\n",
       "      <td>0</td>\n",
       "    </tr>\n",
       "  </tbody>\n",
       "</table>\n",
       "</div>"
      ],
      "text/plain": [
       "                             text  excitement\n",
       "56660                  Woot woot!           0\n",
       "60381                      WOW!!!           0\n",
       "42584             Happy Birthday!           0\n",
       "66821             Happy birthday!           0\n",
       "35491  Happy one week anniversary           0\n",
       "44679           Happy Birthday!!!           0\n",
       "58193                    Pop pop!           0\n",
       "52095             Enjoy the ride!           0\n",
       "3545          Very interesting!!!           0\n",
       "9843            My exact reaction           0\n",
       "7522         happy birthday dude!           0\n",
       "25576                   Oh wow!!!           0\n",
       "47166                       Enjoy           0\n",
       "63386     This sounds interesting           0"
      ]
     },
     "execution_count": 19,
     "metadata": {},
     "output_type": "execute_result"
    }
   ],
   "source": [
    "(df_label\n",
    " .sort_values(\"predicate_short_pipe_emb\", ascending=False)\n",
    " .head(20)[['text', label_of_interest]]\n",
    " .drop_duplicates())"
   ]
  },
  {
   "cell_type": "markdown",
   "id": "25c9d970-077b-4b7a-806d-12c10c3233a8",
   "metadata": {},
   "source": [
    "## CountVector Proba"
   ]
  },
  {
   "cell_type": "code",
   "execution_count": 20,
   "id": "28ddee10-fbf8-45ae-97f8-c381205c00de",
   "metadata": {},
   "outputs": [
    {
     "data": {
      "text/html": [
       "<div>\n",
       "<style scoped>\n",
       "    .dataframe tbody tr th:only-of-type {\n",
       "        vertical-align: middle;\n",
       "    }\n",
       "\n",
       "    .dataframe tbody tr th {\n",
       "        vertical-align: top;\n",
       "    }\n",
       "\n",
       "    .dataframe thead th {\n",
       "        text-align: right;\n",
       "    }\n",
       "</style>\n",
       "<table border=\"1\" class=\"dataframe\">\n",
       "  <thead>\n",
       "    <tr style=\"text-align: right;\">\n",
       "      <th></th>\n",
       "      <th>text</th>\n",
       "      <th>excitement</th>\n",
       "    </tr>\n",
       "  </thead>\n",
       "  <tbody>\n",
       "    <tr>\n",
       "      <th>6361</th>\n",
       "      <td>Happy Easter everyone!!</td>\n",
       "      <td>0</td>\n",
       "    </tr>\n",
       "    <tr>\n",
       "      <th>15952</th>\n",
       "      <td>You're welcome! Anything else on your mind? Best to air it out</td>\n",
       "      <td>0</td>\n",
       "    </tr>\n",
       "    <tr>\n",
       "      <th>24295</th>\n",
       "      <td>[NAME] family must be having a field day there today!</td>\n",
       "      <td>0</td>\n",
       "    </tr>\n",
       "    <tr>\n",
       "      <th>24326</th>\n",
       "      <td>Keep gg too bro!</td>\n",
       "      <td>0</td>\n",
       "    </tr>\n",
       "    <tr>\n",
       "      <th>58235</th>\n",
       "      <td>She’s cool as hell</td>\n",
       "      <td>0</td>\n",
       "    </tr>\n",
       "    <tr>\n",
       "      <th>3984</th>\n",
       "      <td>Grim. Thank you for the info though. I learned something today.</td>\n",
       "      <td>0</td>\n",
       "    </tr>\n",
       "    <tr>\n",
       "      <th>58250</th>\n",
       "      <td>READ A BOOK YOU FUCKING CROOK.</td>\n",
       "      <td>0</td>\n",
       "    </tr>\n",
       "    <tr>\n",
       "      <th>46667</th>\n",
       "      <td>Nimmo? Never heard of the guy. Never seen that infectious smile and everyday hustle before. Of course the Mets know what they have.</td>\n",
       "      <td>0</td>\n",
       "    </tr>\n",
       "    <tr>\n",
       "      <th>34688</th>\n",
       "      <td>It's prevalent in everything. WoW was incredible when it came out *because* everyone was garbage.</td>\n",
       "      <td>0</td>\n",
       "    </tr>\n",
       "    <tr>\n",
       "      <th>10350</th>\n",
       "      <td>It worked for me too!!</td>\n",
       "      <td>1</td>\n",
       "    </tr>\n",
       "  </tbody>\n",
       "</table>\n",
       "</div>"
      ],
      "text/plain": [
       "                                                                                                                                      text  \\\n",
       "6361                                                                                                               Happy Easter everyone!!   \n",
       "15952                                                                       You're welcome! Anything else on your mind? Best to air it out   \n",
       "24295                                                                                [NAME] family must be having a field day there today!   \n",
       "24326                                                                                                                     Keep gg too bro!   \n",
       "58235                                                                                                                   She’s cool as hell   \n",
       "3984                                                                       Grim. Thank you for the info though. I learned something today.   \n",
       "58250                                                                                                       READ A BOOK YOU FUCKING CROOK.   \n",
       "46667  Nimmo? Never heard of the guy. Never seen that infectious smile and everyday hustle before. Of course the Mets know what they have.   \n",
       "34688                                    It's prevalent in everything. WoW was incredible when it came out *because* everyone was garbage.   \n",
       "10350                                                                                                               It worked for me too!!   \n",
       "\n",
       "       excitement  \n",
       "6361            0  \n",
       "15952           0  \n",
       "24295           0  \n",
       "24326           0  \n",
       "58235           0  \n",
       "3984            0  \n",
       "58250           0  \n",
       "46667           0  \n",
       "34688           0  \n",
       "10350           1  "
      ]
     },
     "execution_count": 20,
     "metadata": {},
     "output_type": "execute_result"
    }
   ],
   "source": [
    "(df_label\n",
    " .sort_values(\"predicate_proba\", ascending=False)\n",
    " .head(10)[['text', label_of_interest]]\n",
    " .drop_duplicates())"
   ]
  },
  {
   "cell_type": "code",
   "execution_count": null,
   "id": "7361348b-bef7-4f0d-ad1b-812023f9f80f",
   "metadata": {},
   "outputs": [],
   "source": []
  }
 ],
 "metadata": {
  "kernelspec": {
   "display_name": "Python 3 (ipykernel)",
   "language": "python",
   "name": "python3"
  },
  "language_info": {
   "codemirror_mode": {
    "name": "ipython",
    "version": 3
   },
   "file_extension": ".py",
   "mimetype": "text/x-python",
   "name": "python",
   "nbconvert_exporter": "python",
   "pygments_lexer": "ipython3",
   "version": "3.7.7"
  }
 },
 "nbformat": 4,
 "nbformat_minor": 5
}
