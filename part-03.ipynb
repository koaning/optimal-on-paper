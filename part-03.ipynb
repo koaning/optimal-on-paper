{
 "cells": [
  {
   "cell_type": "code",
   "execution_count": 1,
   "id": "d428cbfb-fe35-4a63-afdf-2b8488940373",
   "metadata": {},
   "outputs": [],
   "source": [
    "import pandas as pd"
   ]
  },
  {
   "cell_type": "code",
   "execution_count": 2,
   "id": "d9f7bee2-7a1b-4a31-9a2a-3d320c51e27a",
   "metadata": {},
   "outputs": [],
   "source": [
    "df = pd.read_csv(\"data/goemotions_1.csv\")"
   ]
  },
  {
   "cell_type": "code",
   "execution_count": 3,
   "id": "302e85e3-889c-449b-9f46-bc9af922415b",
   "metadata": {},
   "outputs": [],
   "source": [
    "from sklearn.pipeline import make_pipeline\n",
    "from sklearn.linear_model import LogisticRegression\n",
    "from sklearn.feature_extraction.text import CountVectorizer"
   ]
  },
  {
   "cell_type": "code",
   "execution_count": 53,
   "id": "60634b1a-0749-4496-ba2a-83b7d943c96f",
   "metadata": {},
   "outputs": [
    {
     "name": "stdout",
     "output_type": "stream",
     "text": [
      "|       | text                                                                    |   excitement |\n",
      "|------:|:------------------------------------------------------------------------|-------------:|\n",
      "| 27233 | my favourite singer ([NAME]) helped write one of the songs so i love it |            0 |\n",
      "|  1385 | No i didn’t all i know is that i binged 3 seasoms of it.                |            0 |\n",
      "| 17077 | I liked [NAME]...                                                       |            0 |\n",
      "| 55699 | A \"wise\" man once told me: > DO > YOUR > OWN >RESEARCH >!               |            0 |\n"
     ]
    }
   ],
   "source": [
    "pd.set_option('display.max_colwidth', None)\n",
    "label_of_interest = 'excitement'\n",
    "\n",
    "print(df[['text', label_of_interest]].loc[lambda d: d[label_of_interest] == 0].sample(4).to_markdown())"
   ]
  },
  {
   "cell_type": "code",
   "execution_count": 5,
   "id": "5fb6b7e6-0116-4241-9c61-f0666726cba8",
   "metadata": {},
   "outputs": [],
   "source": [
    "X, y = list(df['text']), df[label_of_interest]\n",
    "\n",
    "pipe = make_pipeline(\n",
    "    CountVectorizer(), \n",
    "    LogisticRegression(class_weight='balanced', max_iter=1000)\n",
    ")"
   ]
  },
  {
   "cell_type": "code",
   "execution_count": 6,
   "id": "572bb549-39fc-48c3-8d5c-e9802f648ab8",
   "metadata": {},
   "outputs": [],
   "source": [
    "from sklearn.pipeline import make_union\n",
    "from whatlies.language import BytePairLanguage\n",
    "\n",
    "pipe_emb = make_pipeline(\n",
    "    make_union(\n",
    "        BytePairLanguage(\"en\", vs=1_000), \n",
    "        BytePairLanguage(\"en\", vs=100_000)\n",
    "    ),\n",
    "    LogisticRegression(class_weight='balanced', max_iter=1000)\n",
    ")"
   ]
  },
  {
   "cell_type": "code",
   "execution_count": 8,
   "id": "af5d77e4-2721-4602-b7d8-f9ba7c73ebc9",
   "metadata": {},
   "outputs": [],
   "source": [
    "from doubtlab.ensemble import DoubtEnsemble\n",
    "from doubtlab.reason import ProbaReason, DisagreeReason, ShortConfidenceReason"
   ]
  },
  {
   "cell_type": "code",
   "execution_count": 9,
   "id": "f915ebce-a79a-4cae-a650-35629bd70664",
   "metadata": {},
   "outputs": [
    {
     "data": {
      "text/plain": [
       "Pipeline(steps=[('featureunion',\n",
       "                 FeatureUnion(transformer_list=[('bytepairlanguage-1',\n",
       "                                                 BytePairLanguage(lang='en',\n",
       "                                                                  vs=1000)),\n",
       "                                                ('bytepairlanguage-2',\n",
       "                                                 BytePairLanguage(lang='en',\n",
       "                                                                  vs=100000))])),\n",
       "                ('logisticregression',\n",
       "                 LogisticRegression(class_weight='balanced', max_iter=1000))])"
      ]
     },
     "execution_count": 9,
     "metadata": {},
     "output_type": "execute_result"
    }
   ],
   "source": [
    "pipe.fit(X, y)\n",
    "pipe_emb.fit(X, y)"
   ]
  },
  {
   "cell_type": "code",
   "execution_count": 54,
   "id": "9d7ba2fc-82f5-447f-b84e-cd11b3af1908",
   "metadata": {},
   "outputs": [],
   "source": [
    "reasons = {\n",
    "    'proba': ProbaReason(pipe),\n",
    "    'disagree': DisagreeReason(pipe, pipe_emb),\n",
    "    'short_pipe': ShortConfidenceReason(pipe),\n",
    "    'short_pipe_emb': ShortConfidenceReason(pipe_emb),\n",
    "}\n",
    "\n",
    "doubt = DoubtEnsemble(**reasons)"
   ]
  },
  {
   "cell_type": "code",
   "execution_count": 55,
   "id": "9efafe8b-3ffd-4532-9a6e-2e7ea8c8bfe5",
   "metadata": {},
   "outputs": [],
   "source": [
    "predicates = doubt.get_predicates(X, y)"
   ]
  },
  {
   "cell_type": "code",
   "execution_count": 56,
   "id": "64a104e9-4088-4fbf-8a32-f0f441904c40",
   "metadata": {},
   "outputs": [],
   "source": [
    "df_sorted = df.iloc[predicates.index][['text', label_of_interest]]\n",
    "df_label = pd.concat([df_sorted, predicates], axis=1)"
   ]
  },
  {
   "cell_type": "code",
   "execution_count": 70,
   "id": "fcf760fb-b509-406a-b005-f8f0bf8197c3",
   "metadata": {},
   "outputs": [
    {
     "name": "stdout",
     "output_type": "stream",
     "text": [
      "| text                             |   excitement |\n",
      "|:---------------------------------|-------------:|\n",
      "| Happy Easter everyone!!          |            0 |\n",
      "| Happy Easter everyone!!          |            0 |\n",
      "| Happy Easter everyone!!          |            0 |\n",
      "| Congratulations mate!!           |            0 |\n",
      "| Yes every time                   |            0 |\n",
      "| New flavour! I love it!          |            0 |\n",
      "| Wow! Prayers for everyone there. |            0 |\n",
      "| Wow! Prayers for everyone there. |            0 |\n",
      "| Hey vro!                         |            0 |\n",
      "| Oh my gooooooooood               |            0 |\n"
     ]
    }
   ],
   "source": [
    "print(df_label[['text', label_of_interest]].loc[lambda d: d['excitement'] == 0].head(10).to_markdown(index=False))"
   ]
  },
  {
   "cell_type": "markdown",
   "id": "a1c48152-a8ba-43cf-b12b-7e4e863c085a",
   "metadata": {
    "tags": []
   },
   "source": [
    "## Differences \n",
    "\n",
    "It's pretty interesting to observe that different predicates really represent different reasons of doubt.\n",
    "\n",
    "### CountVector Confidence Short"
   ]
  },
  {
   "cell_type": "code",
   "execution_count": 73,
   "id": "d9732567-48a8-4fb9-9df9-e7d7f7a91775",
   "metadata": {},
   "outputs": [
    {
     "name": "stdout",
     "output_type": "stream",
     "text": [
      "| text                                                                                                                                      |   excitement |\n",
      "|:------------------------------------------------------------------------------------------------------------------------------------------|-------------:|\n",
      "| I am inexplicably excited by [NAME]. I get so excited by how he curls passes                                                              |            0 |\n",
      "| Omg this is so amazing ! Keep up the awesome work and have a fantastic New Year !                                                         |            0 |\n",
      "| Sounds like a fun game. Our home game around here is .05/.10. Its fun but not very exciting.                                              |            0 |\n",
      "| So no replays for arsenal penalty calls.. Cool cool cool cool cool cool cool cool                                                         |            0 |\n",
      "| Wow, your posting history is a real... interesting ride.                                                                                  |            0 |\n",
      "| No different than people making a big deal about their team winning the super bowl. People find it interesting.                           |            0 |\n",
      "| Hey congrats!! That's amazing, you've done such amazing progress! Hope you have a great day :)                                            |            0 |\n",
      "| I just read your list and now I can't wait, either!! Hurry up with the happy, relieved and peaceful onward and upward!! Congratulations😎 |            0 |\n"
     ]
    }
   ],
   "source": [
    "print(df_label\n",
    " .sort_values(\"predicate_short_pipe\", ascending=False)\n",
    " .head(10)[['text', label_of_interest]]\n",
    " .drop_duplicates()\n",
    " .to_markdown(index=False))"
   ]
  },
  {
   "cell_type": "markdown",
   "id": "3ba28b17-3091-4280-943a-82188e7527d7",
   "metadata": {},
   "source": [
    "### BytePair Confidence Short"
   ]
  },
  {
   "cell_type": "code",
   "execution_count": 76,
   "id": "49bd2f7b-fafc-44dc-a43b-ae4489e84ca4",
   "metadata": {},
   "outputs": [
    {
     "name": "stdout",
     "output_type": "stream",
     "text": [
      "| text                       |   excitement |\n",
      "|:---------------------------|-------------:|\n",
      "| Woot woot!                 |            0 |\n",
      "| WOW!!!                     |            0 |\n",
      "| Happy birthday!            |            0 |\n",
      "| Happy Birthday!            |            0 |\n",
      "| Happy one week anniversary |            0 |\n",
      "| Happy Birthday!!!          |            0 |\n",
      "| Pop pop!                   |            0 |\n",
      "| Enjoy the ride!            |            0 |\n",
      "| Very interesting!!!        |            0 |\n",
      "| My exact reaction          |            0 |\n",
      "| happy birthday dude!       |            0 |\n",
      "| Enjoy                      |            0 |\n",
      "| Oh wow!!!                  |            0 |\n",
      "| This sounds interesting    |            0 |\n"
     ]
    }
   ],
   "source": [
    "print(df_label\n",
    " .sort_values(\"predicate_short_pipe_emb\", ascending=False)\n",
    " .head(20)[['text', label_of_interest]]\n",
    " .drop_duplicates()\n",
    " .to_markdown(index=False))"
   ]
  },
  {
   "cell_type": "markdown",
   "id": "25c9d970-077b-4b7a-806d-12c10c3233a8",
   "metadata": {},
   "source": [
    "## CountVector Proba"
   ]
  },
  {
   "cell_type": "code",
   "execution_count": 78,
   "id": "28ddee10-fbf8-45ae-97f8-c381205c00de",
   "metadata": {},
   "outputs": [
    {
     "name": "stdout",
     "output_type": "stream",
     "text": [
      "| text                                                                                                                          |   excitement |\n",
      "|:------------------------------------------------------------------------------------------------------------------------------|-------------:|\n",
      "| Happy Easter everyone!!                                                                                                       |            0 |\n",
      "| This game is on [NAME]...                                                                                                     |            0 |\n",
      "| I swear if it's the Cowboys and the Patriots in the Super Bowl I'm going to burn something down.                              |            0 |\n",
      "| I'm on red pills :)                                                                                                           |            0 |\n",
      "| Wow. I hope that asst manager will be looking for a new job soon.                                                             |            0 |\n",
      "| No lie I was just fucking watching the office but I paused it and am know listening to graduation and browsing this subreddit |            0 |\n",
      "| I was imagining her just coming in to work wearing the full [NAME] look.                                                      |            0 |\n",
      "| Like this game from a week ago? 26 points 14                                                                                  |            0 |\n",
      "| You should come. You'd enjoy it.                                                                                              |            0 |\n",
      "| I almost pissed myself waiting so long in the tunnel. Not a fun feeling                                                       |            0 |\n"
     ]
    }
   ],
   "source": [
    "print(df_label\n",
    " .sort_values(\"predicate_proba\", ascending=False)\n",
    " .head(10)[['text', label_of_interest]]\n",
    " .drop_duplicates()\n",
    " .to_markdown(index=False))"
   ]
  },
  {
   "cell_type": "code",
   "execution_count": null,
   "id": "7361348b-bef7-4f0d-ad1b-812023f9f80f",
   "metadata": {},
   "outputs": [],
   "source": []
  }
 ],
 "metadata": {
  "kernelspec": {
   "display_name": "Python 3 (ipykernel)",
   "language": "python",
   "name": "python3"
  },
  "language_info": {
   "codemirror_mode": {
    "name": "ipython",
    "version": 3
   },
   "file_extension": ".py",
   "mimetype": "text/x-python",
   "name": "python",
   "nbconvert_exporter": "python",
   "pygments_lexer": "ipython3",
   "version": "3.7.9"
  }
 },
 "nbformat": 4,
 "nbformat_minor": 5
}
