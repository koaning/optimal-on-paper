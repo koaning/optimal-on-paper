{
 "cells": [
  {
   "cell_type": "code",
   "execution_count": null,
   "id": "d428cbfb-fe35-4a63-afdf-2b8488940373",
   "metadata": {},
   "outputs": [],
   "source": [
    "import pandas as pd"
   ]
  },
  {
   "cell_type": "code",
   "execution_count": null,
   "id": "d9f7bee2-7a1b-4a31-9a2a-3d320c51e27a",
   "metadata": {},
   "outputs": [],
   "source": [
    "df = pd.read_csv(\"data/goemotions_1.csv\")"
   ]
  },
  {
   "cell_type": "code",
   "execution_count": null,
   "id": "302e85e3-889c-449b-9f46-bc9af922415b",
   "metadata": {},
   "outputs": [],
   "source": [
    "from sklearn.pipeline import make_pipeline\n",
    "from sklearn.linear_model import LogisticRegression\n",
    "from sklearn.feature_extraction.text import CountVectorizer"
   ]
  },
  {
   "cell_type": "code",
   "execution_count": null,
   "id": "60634b1a-0749-4496-ba2a-83b7d943c96f",
   "metadata": {},
   "outputs": [],
   "source": [
    "pd.set_option('display.max_colwidth', None)\n",
    "label_of_interest = 'excitement'\n",
    "\n",
    "df[['text', label_of_interest]].loc[lambda d: d[label_of_interest] == 0].sample(2)"
   ]
  },
  {
   "cell_type": "code",
   "execution_count": null,
   "id": "5fb6b7e6-0116-4241-9c61-f0666726cba8",
   "metadata": {},
   "outputs": [],
   "source": [
    "X, y = list(df['text']), df[label_of_interest]\n",
    "\n",
    "pipe = make_pipeline(\n",
    "    CountVectorizer(), \n",
    "    LogisticRegression(class_weight='balanced', max_iter=1000)\n",
    ")"
   ]
  },
  {
   "cell_type": "code",
   "execution_count": null,
   "id": "572bb549-39fc-48c3-8d5c-e9802f648ab8",
   "metadata": {},
   "outputs": [],
   "source": [
    "from sklearn.pipeline import make_union\n",
    "from whatlies.language import BytePairLanguage\n",
    "\n",
    "pipe_emb = make_pipeline(\n",
    "    make_union(\n",
    "        BytePairLanguage(\"en\", vs=1_000), \n",
    "        BytePairLanguage(\"en\", vs=100_000)\n",
    "    ),\n",
    "    LogisticRegression(class_weight='balanced', max_iter=1000)\n",
    ")"
   ]
  },
  {
   "cell_type": "code",
   "execution_count": null,
   "id": "af5d77e4-2721-4602-b7d8-f9ba7c73ebc9",
   "metadata": {},
   "outputs": [],
   "source": [
    "from doubtlab import DoubtLab\n",
    "from doubtlab.reason import ProbaReason, DisagreeReason, ShortConfidenceReason"
   ]
  },
  {
   "cell_type": "code",
   "execution_count": null,
   "id": "f915ebce-a79a-4cae-a650-35629bd70664",
   "metadata": {},
   "outputs": [],
   "source": [
    "pipe.fit(X, y)\n",
    "pipe_emb.fit(X, y)"
   ]
  },
  {
   "cell_type": "code",
   "execution_count": null,
   "id": "9d7ba2fc-82f5-447f-b84e-cd11b3af1908",
   "metadata": {},
   "outputs": [],
   "source": [
    "reasons = {\n",
    "    'proba': ProbaReason(pipe),\n",
    "    'disagree': DisagreeReason(pipe, pipe_emb),\n",
    "    'short1': ShortConfidenceReason(pipe),\n",
    "    'short2': ShortConfidenceReason(pipe_emb),\n",
    "}\n",
    "\n",
    "doubt = DoubtLab(**reasons)\n",
    "indices = doubt.get_indices(X, y)"
   ]
  },
  {
   "cell_type": "code",
   "execution_count": null,
   "id": "9efafe8b-3ffd-4532-9a6e-2e7ea8c8bfe5",
   "metadata": {},
   "outputs": [],
   "source": [
    "predicates = doubt.get_predicates(X, y)"
   ]
  },
  {
   "cell_type": "code",
   "execution_count": null,
   "id": "8fb5bcea-89e3-4349-bc45-817f307b36e1",
   "metadata": {},
   "outputs": [],
   "source": [
    "idx = predicates.index"
   ]
  },
  {
   "cell_type": "code",
   "execution_count": null,
   "id": "515a7316-7bf7-490c-84b3-105e12caf7f9",
   "metadata": {},
   "outputs": [],
   "source": [
    "df.iloc[idx][['text', label_of_interest]].head(5)"
   ]
  },
  {
   "cell_type": "code",
   "execution_count": null,
   "id": "57a1e423-4787-4823-a55b-e391653d83fd",
   "metadata": {},
   "outputs": [],
   "source": [
    "df.iloc[indices][['text', label_of_interest]].loc[lambda d: d['excitement'] == 1].head(5)"
   ]
  },
  {
   "cell_type": "code",
   "execution_count": null,
   "id": "e876ac82-7e0b-41c2-9819-751e3f6e9d49",
   "metadata": {},
   "outputs": [],
   "source": [
    "predicates[predicates.sum(axis=1) > 0]"
   ]
  }
 ],
 "metadata": {
  "kernelspec": {
   "display_name": "Python 3 (ipykernel)",
   "language": "python",
   "name": "python3"
  },
  "language_info": {
   "codemirror_mode": {
    "name": "ipython",
    "version": 3
   },
   "file_extension": ".py",
   "mimetype": "text/x-python",
   "name": "python",
   "nbconvert_exporter": "python",
   "pygments_lexer": "ipython3",
   "version": "3.7.9"
  }
 },
 "nbformat": 4,
 "nbformat_minor": 5
}
